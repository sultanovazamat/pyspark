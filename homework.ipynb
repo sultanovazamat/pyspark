{
 "cells": [
  {
   "cell_type": "code",
   "execution_count": 1,
   "metadata": {},
   "outputs": [],
   "source": [
    "import os\n",
    "import psycopg2\n",
    "import shutil\n",
    "from pyspark.sql import SparkSession\n",
    "from pyspark.sql.types import Row\n",
    "from glob import glob"
   ]
  },
  {
   "cell_type": "markdown",
   "metadata": {},
   "source": [
    "### Класс для обработки файлов"
   ]
  },
  {
   "cell_type": "code",
   "execution_count": 2,
   "metadata": {},
   "outputs": [],
   "source": [
    "class OSM:\n",
    "    \n",
    "    def process_txt(self, spark, prefix, filename, parquet_name):\n",
    "        # read file to rdd\n",
    "        rdd = spark.sparkContext.textFile(\"file:///\" + prefix + filename)\n",
    "        # get headers\n",
    "        initial_header = rdd.take(1)[0]\n",
    "        final_header = initial_header\n",
    "        final_header = final_header.split(\";\")\n",
    "        final_header = [final_header[5], \"PAR_OSM_ID\", final_header[0], final_header[3]]  \n",
    "        # remove headers from rdd\n",
    "        rdd_no_header = rdd.filter(lambda l: l != initial_header)\n",
    "        # process rdd lines\n",
    "        rdd_processed = rdd_no_header.map(lambda l: self.process_rdd_row(l, initial_header))\n",
    "        # generate dataframe\n",
    "        df = self.generate_df(rdd_processed, final_header)\n",
    "        # append df to the final parquet\n",
    "        self.write_df_to_parquet(df, parquet_name)\n",
    "        \n",
    "    def process_rdd_row(self, line, header):\n",
    "        cols = header.split(\";\")\n",
    "        vals = line.split(\";\")\n",
    "        ADMIN_LVL = int(vals[cols.index(\"ADMIN_LVL\")])\n",
    "        i = 1\n",
    "        while True:\n",
    "            if ADMIN_LVL == i:\n",
    "                vals.append(\"0\")\n",
    "                break\n",
    "            if vals[cols.index(f\"ADMIN_L{ADMIN_LVL - i}D\")] in [\"None\", \"\"]:\n",
    "                i += 1\n",
    "            else:\n",
    "                vals.append(str(int(float(vals[cols.index(f\"ADMIN_L{ADMIN_LVL - i}D\")]))))\n",
    "                break\n",
    "                \n",
    "        return \";\".join([vals[5], vals[-1], vals[0], vals[3]])\n",
    "    \n",
    "    def generate_df_row(self, vals, cols):\n",
    "        d = {}\n",
    "        for col, val in zip(cols, vals.split(\";\")):\n",
    "            d[col] = val\n",
    "            \n",
    "        return d\n",
    "    \n",
    "    def generate_df(self, rdd, header):\n",
    "        return rdd.map(lambda l: Row(**self.generate_df_row(l, header))).toDF()\n",
    "    \n",
    "    def remove_old_parquet(self, parquet_name):\n",
    "        try:\n",
    "            shutil.rmtree(parquet_name)\n",
    "        except:\n",
    "            pass\n",
    "    \n",
    "    def write_df_to_parquet(self, df, parquet_name):\n",
    "        df.write.mode(\"append\").parquet(parquet_name)"
   ]
  },
  {
   "cell_type": "markdown",
   "metadata": {},
   "source": [
    "### Класс для работы с PostgreSQL"
   ]
  },
  {
   "cell_type": "code",
   "execution_count": 3,
   "metadata": {},
   "outputs": [],
   "source": [
    "class OSMDB:\n",
    "    \n",
    "    def __init__(self):\n",
    "        self.conn = psycopg2.connect(\n",
    "           database=\"osmdb\", user='postgres', password='password', host='127.0.0.1', port='5432'\n",
    "        )\n",
    "        self.cursor = self.conn.cursor()\n",
    "        self.create_table()\n",
    "\n",
    "    \n",
    "    def execute_and_commit(self, sql):\n",
    "        try:\n",
    "           # Executing the SQL command\n",
    "           self.cursor.execute(sql)\n",
    "\n",
    "           # Commit your changes in the database\n",
    "           self.conn.commit()\n",
    "\n",
    "        except Exception as e:\n",
    "            print(e.message)\n",
    "           # Rolling back in case of error\n",
    "            self.conn.rollback()\n",
    "    \n",
    "    \n",
    "    def create_table(self):\n",
    "        sql ='''CREATE TABLE IF NOT EXISTS OSM(\n",
    "           OSM_ID VARCHAR(20) PRIMARY KEY,\n",
    "           PAR_OSM_ID VARCHAR(20),\n",
    "           NAME VARCHAR(255),\n",
    "           ADMIN_LVL VARCHAR(5)\n",
    "        )'''\n",
    "        \n",
    "        self.execute_and_commit(sql)\n",
    "        \n",
    "        \n",
    "    def insert_data(self, data):\n",
    "        for row in data:\n",
    "            row_dict = row.asDict()\n",
    "            sql = \"INSERT INTO OSM (\"\n",
    "            keys = list(row_dict.keys())\n",
    "            for i in range(len(keys)):\n",
    "                sql += keys[i]\n",
    "                if i < len(row_dict) - 1:\n",
    "                    sql += \",\"\n",
    "            sql += \") VALUES (\"\n",
    "            vals = list(row_dict.values())\n",
    "            for i in range(len(vals)):\n",
    "                sql += \"'\" + vals[i] + \"'\"\n",
    "                if i < len(row_dict) - 1:\n",
    "                    sql += \",\"\n",
    "            sql += \") ON CONFLICT DO NOTHING\"\n",
    "            self.execute_and_commit(sql)\n",
    "            \n",
    "    \n",
    "    def read_data(self):\n",
    "        sql = \"SELECT * FROM OSM ORDER BY ADMIN_LVL\"\n",
    "        self.execute_and_commit(sql)\n",
    "        result = self.cursor.fetchall()\n",
    "        print(f\"Selected {len(result)} rows\\n\\nFirst 10 rows:\")\n",
    "        for i in result[:10]:\n",
    "            print(i)\n",
    "        print(\"\\nLast 10 rows:\")\n",
    "        for i in result[-10:]:\n",
    "            print(i)\n",
    "    \n",
    "    \n",
    "    def close(self):\n",
    "        self.cursor.close()\n",
    "        self.conn.close()"
   ]
  },
  {
   "cell_type": "markdown",
   "metadata": {},
   "source": [
    "### Считывание файлов и генерация parquet"
   ]
  },
  {
   "cell_type": "code",
   "execution_count": 4,
   "metadata": {},
   "outputs": [],
   "source": [
    "prefix = os.path.abspath(\".\")"
   ]
  },
  {
   "cell_type": "code",
   "execution_count": 5,
   "metadata": {},
   "outputs": [],
   "source": [
    "spark = SparkSession.builder \\\n",
    "            .master(\"local[*]\") \\\n",
    "            .appName('OSM') \\\n",
    "            .getOrCreate()"
   ]
  },
  {
   "cell_type": "code",
   "execution_count": 6,
   "metadata": {},
   "outputs": [
    {
     "data": {
      "text/plain": [
       "['./data/admin_lev2.txt',\n",
       " './data/admin_lev3.txt',\n",
       " './data/admin_lev4.txt',\n",
       " './data/admin_lev5.txt',\n",
       " './data/admin_lev6.txt',\n",
       " './data/admin_lev8.txt',\n",
       " './data/admin_lev9.txt']"
      ]
     },
     "execution_count": 6,
     "metadata": {},
     "output_type": "execute_result"
    }
   ],
   "source": [
    "to_process = sorted(glob(\"./data/*.txt\"))\n",
    "to_process"
   ]
  },
  {
   "cell_type": "code",
   "execution_count": 7,
   "metadata": {},
   "outputs": [],
   "source": [
    "osm = OSM()\n",
    "osmdb = OSMDB()\n",
    "parquet_name = \"processed-osm.parquet\""
   ]
  },
  {
   "cell_type": "code",
   "execution_count": 8,
   "metadata": {},
   "outputs": [],
   "source": [
    "osm.remove_old_parquet(parquet_name)\n",
    "for i in to_process:\n",
    "    osm.process_txt(spark, prefix, i[1:], parquet_name)"
   ]
  },
  {
   "cell_type": "markdown",
   "metadata": {},
   "source": [
    "### Считывание parquet и запись в БД"
   ]
  },
  {
   "cell_type": "code",
   "execution_count": 9,
   "metadata": {},
   "outputs": [
    {
     "data": {
      "text/plain": [
       "[Row(OSM_ID='5730494', PAR_OSM_ID='1445620', NAME='Мамское городское поселение', ADMIN_LVL='8'),\n",
       " Row(OSM_ID='5728524', PAR_OSM_ID='1464422', NAME='Ключи-Булакское сельское поселение', ADMIN_LVL='8'),\n",
       " Row(OSM_ID='5730491', PAR_OSM_ID='1445620', NAME='Витимское городское поселение', ADMIN_LVL='8'),\n",
       " Row(OSM_ID='5737571', PAR_OSM_ID='190110', NAME='Костинское сельское поселение', ADMIN_LVL='8'),\n",
       " Row(OSM_ID='5728538', PAR_OSM_ID='1464422', NAME='Тэмьское сельское поселение', ADMIN_LVL='8'),\n",
       " Row(OSM_ID='5738214', PAR_OSM_ID='190110', NAME='Солонецкое сельское поселение', ADMIN_LVL='8'),\n",
       " Row(OSM_ID='5742481', PAR_OSM_ID='190098', NAME='Бирюсинское сельское поселение', ADMIN_LVL='8'),\n",
       " Row(OSM_ID='5728525', PAR_OSM_ID='1464422', NAME='Кобинское сельское поселение', ADMIN_LVL='8'),\n",
       " Row(OSM_ID='5728533', PAR_OSM_ID='1464422', NAME='Прибрежнинское сельское поселение', ADMIN_LVL='8'),\n",
       " Row(OSM_ID='5728516', PAR_OSM_ID='1464422', NAME='Большеокинское сельское поселение', ADMIN_LVL='8')]"
      ]
     },
     "execution_count": 9,
     "metadata": {},
     "output_type": "execute_result"
    }
   ],
   "source": [
    "df = spark.read.parquet(\"processed-osm.parquet\")\n",
    "df.head(10)"
   ]
  },
  {
   "cell_type": "code",
   "execution_count": 10,
   "metadata": {},
   "outputs": [
    {
     "name": "stdout",
     "output_type": "stream",
     "text": [
      "Selected 462 rows\n",
      "\n",
      "First 10 rows:\n",
      "('60189', '0', 'Россия', '2')\n",
      "('1221148', '60189', 'Сибирский федеральный округ', '3')\n",
      "('145454', '1221148', 'Иркутская область', '4')\n",
      "('3438290', '145454', 'Усть-Ордынский Бурятский округ', '5')\n",
      "('1456241', '145454', 'Качугский район', '6')\n",
      "('1456220', '145454', 'Жигаловский район', '6')\n",
      "('1454692', '145454', 'Усть-Кутский район', '6')\n",
      "('1454640', '145454', 'Казачинско-Ленский район', '6')\n",
      "('1454435', '145454', 'Киренский район', '6')\n",
      "('1456787', '3438290', 'Боханский район', '6')\n",
      "\n",
      "Last 10 rows:\n",
      "('5722706', '1454435', 'Небельское сельское поселение', '8')\n",
      "('5722705', '1454435', 'Макаровское сельское поселение', '8')\n",
      "('5722704', '1454435', 'Криволукское сельское поселение', '8')\n",
      "('5722703', '1454435', 'Коршуновское сельское поселение', '8')\n",
      "('5728528', '1464422', 'Кузнецовское сельское поселение', '8')\n",
      "('5725774', '1460823', 'Куйтунское городское поселение', '8')\n",
      "('5826259', '1430613', 'Ленинский административный округ', '9')\n",
      "('5827226', '1430613', 'Свердловский административный округ', '9')\n",
      "('5827642', '1430613', 'Октябрьский административный округ', '9')\n",
      "('5827722', '1430613', 'Правобережный административный округ', '9')\n"
     ]
    }
   ],
   "source": [
    "osmdb.insert_data(df.rdd.collect())\n",
    "osmdb.read_data()"
   ]
  },
  {
   "cell_type": "code",
   "execution_count": 11,
   "metadata": {},
   "outputs": [
    {
     "data": {
      "text/html": [
       "<div>\n",
       "<style scoped>\n",
       "    .dataframe tbody tr th:only-of-type {\n",
       "        vertical-align: middle;\n",
       "    }\n",
       "\n",
       "    .dataframe tbody tr th {\n",
       "        vertical-align: top;\n",
       "    }\n",
       "\n",
       "    .dataframe thead th {\n",
       "        text-align: right;\n",
       "    }\n",
       "</style>\n",
       "<table border=\"1\" class=\"dataframe\">\n",
       "  <thead>\n",
       "    <tr style=\"text-align: right;\">\n",
       "      <th></th>\n",
       "      <th>OSM_ID</th>\n",
       "      <th>PAR_OSM_ID</th>\n",
       "      <th>NAME</th>\n",
       "      <th>ADMIN_LVL</th>\n",
       "    </tr>\n",
       "  </thead>\n",
       "  <tbody>\n",
       "    <tr>\n",
       "      <th>0</th>\n",
       "      <td>5730494</td>\n",
       "      <td>1445620</td>\n",
       "      <td>Мамское городское поселение</td>\n",
       "      <td>8</td>\n",
       "    </tr>\n",
       "    <tr>\n",
       "      <th>1</th>\n",
       "      <td>5728524</td>\n",
       "      <td>1464422</td>\n",
       "      <td>Ключи-Булакское сельское поселение</td>\n",
       "      <td>8</td>\n",
       "    </tr>\n",
       "    <tr>\n",
       "      <th>2</th>\n",
       "      <td>5730491</td>\n",
       "      <td>1445620</td>\n",
       "      <td>Витимское городское поселение</td>\n",
       "      <td>8</td>\n",
       "    </tr>\n",
       "    <tr>\n",
       "      <th>3</th>\n",
       "      <td>5737571</td>\n",
       "      <td>190110</td>\n",
       "      <td>Костинское сельское поселение</td>\n",
       "      <td>8</td>\n",
       "    </tr>\n",
       "    <tr>\n",
       "      <th>4</th>\n",
       "      <td>5728538</td>\n",
       "      <td>1464422</td>\n",
       "      <td>Тэмьское сельское поселение</td>\n",
       "      <td>8</td>\n",
       "    </tr>\n",
       "  </tbody>\n",
       "</table>\n",
       "</div>"
      ],
      "text/plain": [
       "    OSM_ID PAR_OSM_ID                                NAME ADMIN_LVL\n",
       "0  5730494    1445620         Мамское городское поселение         8\n",
       "1  5728524    1464422  Ключи-Булакское сельское поселение         8\n",
       "2  5730491    1445620       Витимское городское поселение         8\n",
       "3  5737571     190110       Костинское сельское поселение         8\n",
       "4  5728538    1464422         Тэмьское сельское поселение         8"
      ]
     },
     "execution_count": 11,
     "metadata": {},
     "output_type": "execute_result"
    }
   ],
   "source": [
    "df.toPandas().head(5)"
   ]
  },
  {
   "cell_type": "code",
   "execution_count": 12,
   "metadata": {},
   "outputs": [
    {
     "data": {
      "text/html": [
       "<div>\n",
       "<style scoped>\n",
       "    .dataframe tbody tr th:only-of-type {\n",
       "        vertical-align: middle;\n",
       "    }\n",
       "\n",
       "    .dataframe tbody tr th {\n",
       "        vertical-align: top;\n",
       "    }\n",
       "\n",
       "    .dataframe thead th {\n",
       "        text-align: right;\n",
       "    }\n",
       "</style>\n",
       "<table border=\"1\" class=\"dataframe\">\n",
       "  <thead>\n",
       "    <tr style=\"text-align: right;\">\n",
       "      <th></th>\n",
       "      <th>OSM_ID</th>\n",
       "      <th>PAR_OSM_ID</th>\n",
       "      <th>NAME</th>\n",
       "      <th>ADMIN_LVL</th>\n",
       "    </tr>\n",
       "  </thead>\n",
       "  <tbody>\n",
       "    <tr>\n",
       "      <th>457</th>\n",
       "      <td>5827642</td>\n",
       "      <td>1430613</td>\n",
       "      <td>Октябрьский административный округ</td>\n",
       "      <td>9</td>\n",
       "    </tr>\n",
       "    <tr>\n",
       "      <th>458</th>\n",
       "      <td>5826259</td>\n",
       "      <td>1430613</td>\n",
       "      <td>Ленинский административный округ</td>\n",
       "      <td>9</td>\n",
       "    </tr>\n",
       "    <tr>\n",
       "      <th>459</th>\n",
       "      <td>5827226</td>\n",
       "      <td>1430613</td>\n",
       "      <td>Свердловский административный округ</td>\n",
       "      <td>9</td>\n",
       "    </tr>\n",
       "    <tr>\n",
       "      <th>460</th>\n",
       "      <td>145454</td>\n",
       "      <td>1221148</td>\n",
       "      <td>Иркутская область</td>\n",
       "      <td>4</td>\n",
       "    </tr>\n",
       "    <tr>\n",
       "      <th>461</th>\n",
       "      <td>60189</td>\n",
       "      <td>0</td>\n",
       "      <td>Россия</td>\n",
       "      <td>2</td>\n",
       "    </tr>\n",
       "  </tbody>\n",
       "</table>\n",
       "</div>"
      ],
      "text/plain": [
       "      OSM_ID PAR_OSM_ID                                 NAME ADMIN_LVL\n",
       "457  5827642    1430613   Октябрьский административный округ         9\n",
       "458  5826259    1430613     Ленинский административный округ         9\n",
       "459  5827226    1430613  Свердловский административный округ         9\n",
       "460   145454    1221148                    Иркутская область         4\n",
       "461    60189          0                               Россия         2"
      ]
     },
     "execution_count": 12,
     "metadata": {},
     "output_type": "execute_result"
    }
   ],
   "source": [
    "df.toPandas().tail(5)"
   ]
  },
  {
   "cell_type": "markdown",
   "metadata": {},
   "source": [
    "### Вывод содердимого parquet"
   ]
  },
  {
   "cell_type": "code",
   "execution_count": 13,
   "metadata": {},
   "outputs": [
    {
     "name": "stdout",
     "output_type": "stream",
     "text": [
      "processed-osm.parquet/part-00000-12289c86-34b6-41ce-992c-62f93e0e8dcf-c000.snappy.parquet\r\n",
      "processed-osm.parquet/part-00000-38582742-c9a9-4f1c-bdca-1e5bc5b21e6e-c000.snappy.parquet\r\n",
      "processed-osm.parquet/part-00000-3e488b1a-a760-45ac-975b-c059504b207e-c000.snappy.parquet\r\n",
      "processed-osm.parquet/part-00000-6834f1bf-40de-45bd-b85c-7d0a5e5186ef-c000.snappy.parquet\r\n",
      "processed-osm.parquet/part-00000-b9fab290-4175-4725-9f4b-bc20058b908e-c000.snappy.parquet\r\n",
      "processed-osm.parquet/part-00000-db068684-3085-4043-8886-f8cfc77b9a31-c000.snappy.parquet\r\n",
      "processed-osm.parquet/part-00000-e365850d-f40e-4bee-aec4-fdefa862c01e-c000.snappy.parquet\r\n",
      "processed-osm.parquet/part-00001-12289c86-34b6-41ce-992c-62f93e0e8dcf-c000.snappy.parquet\r\n",
      "processed-osm.parquet/part-00001-38582742-c9a9-4f1c-bdca-1e5bc5b21e6e-c000.snappy.parquet\r\n",
      "processed-osm.parquet/part-00001-3e488b1a-a760-45ac-975b-c059504b207e-c000.snappy.parquet\r\n",
      "processed-osm.parquet/part-00001-6834f1bf-40de-45bd-b85c-7d0a5e5186ef-c000.snappy.parquet\r\n",
      "processed-osm.parquet/part-00001-b9fab290-4175-4725-9f4b-bc20058b908e-c000.snappy.parquet\r\n",
      "processed-osm.parquet/part-00001-db068684-3085-4043-8886-f8cfc77b9a31-c000.snappy.parquet\r\n",
      "processed-osm.parquet/part-00001-e365850d-f40e-4bee-aec4-fdefa862c01e-c000.snappy.parquet\r\n"
     ]
    }
   ],
   "source": [
    "!ls processed-osm.parquet/*.parquet"
   ]
  }
 ],
 "metadata": {
  "kernelspec": {
   "display_name": "Python 3",
   "language": "python",
   "name": "python3"
  },
  "language_info": {
   "codemirror_mode": {
    "name": "ipython",
    "version": 3
   },
   "file_extension": ".py",
   "mimetype": "text/x-python",
   "name": "python",
   "nbconvert_exporter": "python",
   "pygments_lexer": "ipython3",
   "version": "3.8.5"
  }
 },
 "nbformat": 4,
 "nbformat_minor": 4
}
